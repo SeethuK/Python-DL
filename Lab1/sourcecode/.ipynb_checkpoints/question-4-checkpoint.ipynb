{
 "cells": [
  {
   "cell_type": "markdown",
   "metadata": {},
   "source": [
    "load dataset using read_csv function from pandas library"
   ]
  },
  {
   "cell_type": "code",
   "execution_count": null,
   "metadata": {
    "pycharm": {
     "name": "#%%\n"
    }
   },
   "outputs": [],
   "source": [
    "import pandas as pd\n",
    "college_dataset = pd.read_csv('College.csv')"
   ]
  },
  {
   "cell_type": "markdown",
   "metadata": {},
   "source": [
    "print dataset head"
   ]
  },
  {
   "cell_type": "code",
   "execution_count": null,
   "metadata": {
    "pycharm": {
     "name": "#%% \n"
    }
   },
   "outputs": [],
   "source": [
    "college_dataset.head()"
   ]
  },
  {
   "cell_type": "markdown",
   "metadata": {},
   "source": [
    "to see shape of the college dataset"
   ]
  },
  {
   "cell_type": "code",
   "execution_count": null,
   "metadata": {},
   "outputs": [],
   "source": [
    "college_dataset.shape"
   ]
  },
  {
   "cell_type": "markdown",
   "metadata": {},
   "source": [
    "to see datatypes of the columns in the dataset"
   ]
  },
  {
   "cell_type": "code",
   "execution_count": null,
   "metadata": {
    "pycharm": {
     "name": "#%%\n"
    }
   },
   "outputs": [],
   "source": [
    "college_dataset.dtypes"
   ]
  },
  {
   "cell_type": "markdown",
   "metadata": {},
   "source": [
    "drop columns having datatypes as object and target"
   ]
  },
  {
   "cell_type": "code",
   "execution_count": null,
   "metadata": {},
   "outputs": [],
   "source": [
    "college_dataset.drop(columns='Unnamed: 0', inplace=True)\n",
    "college_dataset.drop(columns='Private', inplace=True)\n",
    "X_college_dataset = college_dataset.drop(['Grad.Rate'], axis=1)"
   ]
  },
  {
   "cell_type": "markdown",
   "metadata": {
    "pycharm": {
     "name": "#%% md\n"
    }
   },
   "source": [
    "print dataset head"
   ]
  },
  {
   "cell_type": "code",
   "execution_count": null,
   "metadata": {
    "pycharm": {
     "name": "#%%\n"
    }
   },
   "outputs": [],
   "source": [
    "X_college_dataset.head()"
   ]
  },
  {
   "cell_type": "markdown",
   "metadata": {},
   "source": [
    "to see shape of the college dataset"
   ]
  },
  {
   "cell_type": "code",
   "execution_count": null,
   "metadata": {},
   "outputs": [],
   "source": [
    "X_college_dataset.shape"
   ]
  },
  {
   "cell_type": "markdown",
   "metadata": {},
   "source": [
    "to see datatypes of the columns in the dataset"
   ]
  },
  {
   "cell_type": "code",
   "execution_count": null,
   "metadata": {},
   "outputs": [],
   "source": [
    "X_college_dataset.dtypes"
   ]
  },
  {
   "cell_type": "markdown",
   "metadata": {},
   "source": [
    "count number of null in the dataset"
   ]
  },
  {
   "cell_type": "code",
   "execution_count": null,
   "metadata": {},
   "outputs": [],
   "source": [
    "X_college_dataset.isnull().sum()"
   ]
  },
  {
   "cell_type": "markdown",
   "metadata": {},
   "source": [
    "change the values in the columns with respect to mean and standard deviation"
   ]
  },
  {
   "cell_type": "code",
   "execution_count": null,
   "metadata": {},
   "outputs": [],
   "source": [
    "X_college_dataset['Expend'] = (X_college_dataset['Expend']-X_college_dataset['Expend'].mean())/X_college_dataset['Expend'].std()"
   ]
  },
  {
   "cell_type": "code",
   "execution_count": null,
   "metadata": {},
   "outputs": [],
   "source": [
    "X_college_dataset['PhD'] = (X_college_dataset['PhD']-X_college_dataset['PhD'].mean())/X_college_dataset['PhD'].std()"
   ]
  },
  {
   "cell_type": "markdown",
   "metadata": {},
   "source": [
    "print dataset head"
   ]
  },
  {
   "cell_type": "code",
   "execution_count": null,
   "metadata": {},
   "outputs": [],
   "source": [
    "X_college_dataset.head(5)"
   ]
  },
  {
   "cell_type": "markdown",
   "metadata": {},
   "source": [
    "plot the histogram"
   ]
  },
  {
   "cell_type": "code",
   "execution_count": null,
   "metadata": {},
   "outputs": [],
   "source": [
    "import numpy as np\n",
    "import matplotlib.pyplot as plt\n",
    "count,bin_edges = np.histogram(X_college_dataset['Expend'])\n",
    "X_college_dataset['Expend'].plot(kind='hist',xticks=bin_edges , \n",
    "                     figsize=(8,5), edgecolor='black')\n",
    "\n",
    "plt.title(\"Hist for Expend\")\n",
    "plt.ylabel(\"Number of datapoints with same expend values\")\n",
    "plt.xlabel(\"Expend\")\n",
    "\n",
    "plt.show()"
   ]
  },
  {
   "cell_type": "code",
   "execution_count": null,
   "metadata": {},
   "outputs": [],
   "source": [
    "import numpy as np\n",
    "import matplotlib.pyplot as plt\n",
    "count,bin_edges = np.histogram(X_college_dataset['PhD'])\n",
    "X_college_dataset['PhD'].plot(kind='hist',xticks=bin_edges , \n",
    "                     figsize=(8,5), edgecolor='black')\n",
    "\n",
    "plt.title(\"Hist for PhD\")\n",
    "plt.ylabel(\"Number of datapoints with same expend values\")\n",
    "plt.xlabel(\"PhD\")\n",
    "\n",
    "plt.show()"
   ]
  },
  {
   "cell_type": "markdown",
   "metadata": {},
   "source": [
    "find correlation between all the features"
   ]
  },
  {
   "cell_type": "code",
   "execution_count": null,
   "metadata": {},
   "outputs": [],
   "source": [
    "corr = college_dataset.corr()"
   ]
  },
  {
   "cell_type": "markdown",
   "metadata": {},
   "source": [
    "do pairplot on the features"
   ]
  },
  {
   "cell_type": "code",
   "execution_count": null,
   "metadata": {},
   "outputs": [],
   "source": [
    "import seaborn as sns\n",
    "sns.pairplot(college_dataset)"
   ]
  },
  {
   "cell_type": "code",
   "execution_count": null,
   "metadata": {},
   "outputs": [],
   "source": [
    "print(corr['Grad.Rate'].sort_values(ascending=False)[:8], '\\n')\n",
    "print(corr['Grad.Rate'].sort_values(ascending=False)[-8:])"
   ]
  },
  {
   "cell_type": "markdown",
   "metadata": {},
   "source": [
    "remove columns with negative correlation"
   ]
  },
  {
   "cell_type": "code",
   "execution_count": null,
   "metadata": {},
   "outputs": [],
   "source": [
    "X_college_dataset.drop(columns='Apps', inplace=True)\n",
    "X_college_dataset.drop(columns='Accept', inplace=True)\n",
    "X_college_dataset.drop(columns='Books', inplace=True)\n",
    "X_college_dataset.drop(columns='Enroll', inplace=True)\n",
    "X_college_dataset.drop(columns='F.Undergrad', inplace=True)\n",
    "X_college_dataset.drop(columns='P.Undergrad', inplace=True)\n",
    "X_college_dataset.drop(columns='Personal', inplace=True)\n",
    "X_college_dataset.drop(columns='S.F.Ratio', inplace=True)"
   ]
  },
  {
   "cell_type": "code",
   "execution_count": null,
   "metadata": {},
   "outputs": [],
   "source": [
    "quality_pivot = college_dataset.pivot_table(index='Outstate', values='Grad.Rate', aggfunc=np.median)\n",
    "quality_pivot.plot(kind='bar', color='green')\n",
    "plt.show()\n",
    "quality_pivot = college_dataset.pivot_table(index='Top10perc', values='Grad.Rate', aggfunc=np.median)\n",
    "quality_pivot.plot(kind='bar', color='blue')\n",
    "plt.show()\n",
    "quality_pivot = college_dataset.pivot_table(index='perc.alumni', values='Grad.Rate', aggfunc=np.median)\n",
    "quality_pivot.plot(kind='bar', color='black')\n",
    "plt.show()\n",
    "quality_pivot = college_dataset.pivot_table(index='Top25perc', values='Grad.Rate', aggfunc=np.median)\n",
    "quality_pivot.plot(kind='bar', color='red')\n",
    "plt.show()\n",
    "quality_pivot = college_dataset.pivot_table(index='Room.Board', values='Grad.Rate', aggfunc=np.median)\n",
    "quality_pivot.plot(kind='bar', color='green')\n",
    "plt.show()"
   ]
  },
  {
   "cell_type": "markdown",
   "metadata": {},
   "source": [
    "create traget dataframe"
   ]
  },
  {
   "cell_type": "code",
   "execution_count": null,
   "metadata": {},
   "outputs": [],
   "source": [
    "college_dataset.rename(columns = {'Grad.Rate':'GradRate'},inplace=True)\n",
    "Y_college_dataset = np.log(college_dataset['GradRate'])"
   ]
  },
  {
   "cell_type": "markdown",
   "metadata": {},
   "source": [
    "split dataframe to train and test"
   ]
  },
  {
   "cell_type": "code",
   "execution_count": null,
   "metadata": {},
   "outputs": [],
   "source": [
    "from sklearn.model_selection import train_test_split\n",
    "X_train, X_test, y_train, y_test = train_test_split(X_college_dataset, Y_college_dataset, random_state=42, test_size=.33)"
   ]
  },
  {
   "cell_type": "markdown",
   "metadata": {},
   "source": [
    "train model"
   ]
  },
  {
   "cell_type": "code",
   "execution_count": null,
   "metadata": {},
   "outputs": [],
   "source": [
    "from sklearn import linear_model\n",
    "lr1 = linear_model.LinearRegression()\n",
    "model = lr1.fit(X_train, y_train)"
   ]
  },
  {
   "cell_type": "markdown",
   "metadata": {},
   "source": [
    "model accuracy"
   ]
  },
  {
   "cell_type": "code",
   "execution_count": null,
   "metadata": {},
   "outputs": [],
   "source": [
    "print('R2 is: ', model.score(X_test, y_test))\n",
    "prediction = model.predict(X_test)\n",
    "from sklearn.metrics import mean_squared_error\n",
    "print('RMSE: ', mean_squared_error(y_test, prediction))"
   ]
  }
 ],
 "metadata": {
  "kernelspec": {
   "display_name": "Python 3",
   "language": "python",
   "name": "python3"
  },
  "language_info": {
   "codemirror_mode": {
    "name": "ipython",
    "version": 3
   },
   "file_extension": ".py",
   "mimetype": "text/x-python",
   "name": "python",
   "nbconvert_exporter": "python",
   "pygments_lexer": "ipython3",
   "version": "3.6.8"
  },
  "pycharm": {
   "stem_cell": {
    "cell_type": "raw",
    "metadata": {
     "collapsed": false
    },
    "source": []
   }
  }
 },
 "nbformat": 4,
 "nbformat_minor": 1
}
