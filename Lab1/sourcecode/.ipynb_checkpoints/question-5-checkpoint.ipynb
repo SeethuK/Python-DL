{
 "cells": [
  {
   "cell_type": "code",
   "execution_count": null,
   "metadata": {
    "pycharm": {
     "is_executing": false
    }
   },
   "outputs": [],
   "source": [
    "import numpy as np\n",
    "import pandas as pd\n",
    "import matplotlib.pyplot as plt\n",
    "import seaborn as sns"
   ]
  },
  {
   "cell_type": "code",
   "execution_count": null,
   "metadata": {},
   "outputs": [],
   "source": [
    "dataset = pd.read_csv('WA_Fn-UseC_-Telco-Customer-Churn.csv')"
   ]
  },
  {
   "cell_type": "code",
   "execution_count": null,
   "metadata": {},
   "outputs": [],
   "source": [
    "dataset.head()"
   ]
  },
  {
   "cell_type": "code",
   "execution_count": null,
   "metadata": {},
   "outputs": [],
   "source": [
    "dataset.shape"
   ]
  },
  {
   "cell_type": "code",
   "execution_count": null,
   "metadata": {},
   "outputs": [],
   "source": [
    "dataset.dtypes"
   ]
  },
  {
   "cell_type": "code",
   "execution_count": null,
   "metadata": {},
   "outputs": [],
   "source": [
    "dataset.dtypes[dataset.dtypes=='object']"
   ]
  },
  {
   "cell_type": "code",
   "execution_count": null,
   "metadata": {},
   "outputs": [],
   "source": [
    "dataset.isnull().sum()"
   ]
  },
  {
   "cell_type": "code",
   "execution_count": null,
   "metadata": {},
   "outputs": [],
   "source": [
    "dataset.head()"
   ]
  },
  {
   "cell_type": "code",
   "execution_count": null,
   "metadata": {},
   "outputs": [],
   "source": [
    "from sklearn.preprocessing import LabelEncoder\n",
    "le = LabelEncoder()\n",
    "X_dataset = dataset"
   ]
  },
  {
   "cell_type": "code",
   "execution_count": null,
   "metadata": {},
   "outputs": [],
   "source": [
    "X_dataset['gender'] = dataset['gender'].str.replace('Male', '0')\n",
    "X_dataset['gender'] = X_dataset['gender'].str.replace('Female', '1').astype(int)"
   ]
  },
  {
   "cell_type": "code",
   "execution_count": null,
   "metadata": {},
   "outputs": [],
   "source": [
    "X_dataset['Partner'] = dataset['Partner'].str.replace('Yes', '0')\n",
    "X_dataset['Partner'] = X_dataset['Partner'].str.replace('No', '1').astype(int)"
   ]
  },
  {
   "cell_type": "code",
   "execution_count": null,
   "metadata": {},
   "outputs": [],
   "source": [
    "X_dataset['Dependents'] = dataset['Dependents'].str.replace('Yes', '0')\n",
    "X_dataset['Dependents'] = X_dataset['Dependents'].str.replace('No', '1').astype(int)"
   ]
  },
  {
   "cell_type": "code",
   "execution_count": null,
   "metadata": {},
   "outputs": [],
   "source": [
    "X_dataset['PhoneService'] = dataset['PhoneService'].str.replace('Yes', '0')\n",
    "X_dataset['PhoneService'] = X_dataset['PhoneService'].str.replace('No', '1').astype(int)"
   ]
  },
  {
   "cell_type": "code",
   "execution_count": null,
   "metadata": {},
   "outputs": [],
   "source": [
    "X_dataset['MultipleLines'] = dataset['MultipleLines'].str.replace('No phone service', '0')\n",
    "X_dataset['MultipleLines'] = X_dataset['MultipleLines'].str.replace('No', '1')\n",
    "X_dataset['MultipleLines'] = X_dataset['MultipleLines'].str.replace('Yes', '2').astype(int)"
   ]
  },
  {
   "cell_type": "code",
   "execution_count": null,
   "metadata": {},
   "outputs": [],
   "source": [
    "X_dataset['InternetService'] = dataset['InternetService'].str.replace('DSL', '0')\n",
    "X_dataset['InternetService'] = X_dataset['InternetService'].str.replace('Fiber optic', '1')\n",
    "X_dataset['InternetService'] = X_dataset['InternetService'].str.replace('No', '2').astype(int)"
   ]
  },
  {
   "cell_type": "code",
   "execution_count": null,
   "metadata": {},
   "outputs": [],
   "source": [
    "X_dataset['OnlineSecurity'] = dataset['OnlineSecurity'].str.replace('No internet service', '0')\n",
    "X_dataset['OnlineSecurity'] = X_dataset['OnlineSecurity'].str.replace('Yes', '1')\n",
    "X_dataset['OnlineSecurity'] = X_dataset['OnlineSecurity'].str.replace('No', '2').astype(int)"
   ]
  },
  {
   "cell_type": "code",
   "execution_count": null,
   "metadata": {},
   "outputs": [],
   "source": [
    "X_dataset['OnlineBackup'] = dataset['OnlineBackup'].str.replace('No internet service', '0')\n",
    "X_dataset['OnlineBackup'] = X_dataset['OnlineBackup'].str.replace('Yes', '1')\n",
    "X_dataset['OnlineBackup'] = X_dataset['OnlineBackup'].str.replace('No', '2').astype(int)"
   ]
  },
  {
   "cell_type": "code",
   "execution_count": null,
   "metadata": {},
   "outputs": [],
   "source": [
    "X_dataset['DeviceProtection'] = dataset['DeviceProtection'].str.replace('No internet service', '0')\n",
    "X_dataset['DeviceProtection'] = X_dataset['DeviceProtection'].str.replace('Yes', '1')\n",
    "X_dataset['DeviceProtection'] = X_dataset['DeviceProtection'].str.replace('No', '2').astype(int)"
   ]
  },
  {
   "cell_type": "code",
   "execution_count": null,
   "metadata": {},
   "outputs": [],
   "source": [
    "X_dataset['StreamingTV'] = dataset['StreamingTV'].str.replace('No internet service', '0')\n",
    "X_dataset['StreamingTV'] = X_dataset['StreamingTV'].str.replace('Yes', '1')\n",
    "X_dataset['StreamingTV'] = X_dataset['StreamingTV'].str.replace('No', '2').astype(int)"
   ]
  },
  {
   "cell_type": "code",
   "execution_count": null,
   "metadata": {},
   "outputs": [],
   "source": [
    "X_dataset['TechSupport'] = dataset['TechSupport'].str.replace('No internet service', '0')\n",
    "X_dataset['TechSupport'] = X_dataset['TechSupport'].str.replace('Yes', '1')\n",
    "X_dataset['TechSupport'] = X_dataset['TechSupport'].str.replace('No', '2').astype(int)"
   ]
  },
  {
   "cell_type": "code",
   "execution_count": null,
   "metadata": {},
   "outputs": [],
   "source": [
    "X_dataset['Contract'] = dataset['Contract'].str.replace('Month-to-month', '0')\n",
    "X_dataset['Contract'] = X_dataset['Contract'].str.replace('One year', '1')\n",
    "X_dataset['Contract'] = X_dataset['Contract'].str.replace('Two year', '2').astype(int)"
   ]
  },
  {
   "cell_type": "code",
   "execution_count": null,
   "metadata": {},
   "outputs": [],
   "source": [
    "X_dataset['PaperlessBilling'] = dataset['PaperlessBilling'].str.replace('Yes', '0')\n",
    "X_dataset['PaperlessBilling'] = X_dataset['PaperlessBilling'].str.replace('No', '1').astype(int)"
   ]
  },
  {
   "cell_type": "code",
   "execution_count": null,
   "metadata": {},
   "outputs": [],
   "source": [
    "X_dataset['StreamingMovies'] = dataset['StreamingMovies'].str.replace('No internet service', '0')\n",
    "X_dataset['StreamingMovies'] = X_dataset['StreamingMovies'].str.replace('Yes', '1')\n",
    "X_dataset['StreamingMovies'] = X_dataset['StreamingMovies'].str.replace('No', '2').astype(int)"
   ]
  },
  {
   "cell_type": "code",
   "execution_count": null,
   "metadata": {},
   "outputs": [],
   "source": [
    "X_dataset['Churn'] = dataset['Churn'].str.replace('Yes', '0')\n",
    "X_dataset['Churn'] = X_dataset['Churn'].str.replace('No', '1').astype(int)"
   ]
  },
  {
   "cell_type": "code",
   "execution_count": null,
   "metadata": {},
   "outputs": [],
   "source": [
    "X_dataset.head()"
   ]
  },
  {
   "cell_type": "code",
   "execution_count": null,
   "metadata": {
    "scrolled": true
   },
   "outputs": [],
   "source": [
    "X_dataset.shape"
   ]
  },
  {
   "cell_type": "code",
   "execution_count": null,
   "metadata": {},
   "outputs": [],
   "source": [
    "X_dataset.drop(columns='PaymentMethod', inplace=True)\n",
    "X_dataset.drop(columns='customerID', inplace=True)"
   ]
  },
  {
   "cell_type": "code",
   "execution_count": null,
   "metadata": {},
   "outputs": [],
   "source": [
    "X_dataset.shape"
   ]
  },
  {
   "cell_type": "code",
   "execution_count": null,
   "metadata": {},
   "outputs": [],
   "source": [
    "gender_corr = X_dataset[['gender', 'Churn']].groupby(['gender'], as_index=False).mean().sort_values(by='Churn', ascending=False)\n",
    "gender_corr = X_dataset[['Partner', 'Churn']].groupby(['Partner'], as_index=False).mean().sort_values(by='Churn', ascending=False)\n",
    "gender_corr = X_dataset[['SeniorCitizen', 'Churn']].groupby(['SeniorCitizen'], as_index=False).mean().sort_values(by='Churn', ascending=False)\n",
    "gender_corr = X_dataset[['Dependents', 'Churn']].groupby(['Dependents'], as_index=False).mean().sort_values(by='Churn', ascending=False)\n",
    "gender_corr = X_dataset[['PhoneService', 'Churn']].groupby(['PhoneService'], as_index=False).mean().sort_values(by='Churn', ascending=False)\n",
    "gender_corr = X_dataset[['MultipleLines', 'Churn']].groupby(['MultipleLines'], as_index=False).mean().sort_values(by='Churn', ascending=False)\n",
    "gender_corr = X_dataset[['InternetService', 'Churn']].groupby(['InternetService'], as_index=False).mean().sort_values(by='Churn', ascending=False)\n",
    "gender_corr = X_dataset[['OnlineSecurity', 'Churn']].groupby(['OnlineSecurity'], as_index=False).mean().sort_values(by='Churn', ascending=False)\n",
    "gender_corr = X_dataset[['OnlineBackup', 'Churn']].groupby(['OnlineBackup'], as_index=False).mean().sort_values(by='Churn', ascending=False)\n",
    "gender_corr = X_dataset[['DeviceProtection', 'Churn']].groupby(['DeviceProtection'], as_index=False).mean().sort_values(by='Churn', ascending=False)\n",
    "gender_corr = X_dataset[['TechSupport', 'Churn']].groupby(['TechSupport'], as_index=False).mean().sort_values(by='Churn', ascending=False)\n",
    "gender_corr = X_dataset[['Contract', 'Churn']].groupby(['Contract'], as_index=False).mean().sort_values(by='Churn', ascending=False)\n",
    "gender_corr = X_dataset[['PaperlessBilling', 'Churn']].groupby(['PaperlessBilling'], as_index=False).mean().sort_values(by='Churn', ascending=False)\n",
    "gender_corr = X_dataset[['StreamingMovies', 'Churn']].groupby(['StreamingMovies'], as_index=False).mean().sort_values(by='Churn', ascending=False)"
   ]
  },
  {
   "cell_type": "code",
   "execution_count": null,
   "metadata": {},
   "outputs": [],
   "source": [
    "g = sns.FacetGrid(X_dataset, col='Churn')\n",
    "g.map(plt.hist, 'gender')\n",
    "plt.show()\n",
    "g = sns.FacetGrid(X_dataset, col='Churn')\n",
    "g.map(plt.hist, 'SeniorCitizen')\n",
    "plt.show()\n",
    "g = sns.FacetGrid(X_dataset, col='Churn')\n",
    "g.map(plt.hist, 'Partner')\n",
    "plt.show()\n",
    "g = sns.FacetGrid(X_dataset, col='Churn')\n",
    "g.map(plt.hist, 'Dependents')\n",
    "plt.show()\n",
    "g = sns.FacetGrid(X_dataset, col='Churn')\n",
    "g.map(plt.hist, 'PhoneService')\n",
    "plt.show()\n",
    "g = sns.FacetGrid(X_dataset, col='Churn')\n",
    "g.map(plt.hist, 'MultipleLines')\n",
    "plt.show()\n",
    "g = sns.FacetGrid(X_dataset, col='Churn')\n",
    "g.map(plt.hist, 'InternetService')\n",
    "plt.show()\n",
    "g = sns.FacetGrid(X_dataset, col='Churn')\n",
    "g.map(plt.hist, 'OnlineSecurity')\n",
    "plt.show()\n",
    "g = sns.FacetGrid(X_dataset, col='Churn')\n",
    "g.map(plt.hist, 'TechSupport')\n",
    "plt.show()\n",
    "g = sns.FacetGrid(X_dataset, col='Churn')\n",
    "g.map(plt.hist, 'StreamingTV')\n",
    "plt.show()\n",
    "g = sns.FacetGrid(X_dataset, col='Churn')\n",
    "g.map(plt.hist, 'StreamingMovies')\n",
    "plt.show()\n",
    "g = sns.FacetGrid(X_dataset, col='Churn')\n",
    "g.map(plt.hist, 'Contract')\n",
    "plt.show()\n",
    "g = sns.FacetGrid(X_dataset, col='Churn')\n",
    "g.map(plt.hist, 'PaperlessBilling')\n",
    "plt.show()\n",
    "g = sns.FacetGrid(X_dataset, col='Churn')\n",
    "g.map(plt.hist, 'Churn')\n",
    "plt.show()"
   ]
  },
  {
   "cell_type": "code",
   "execution_count": null,
   "metadata": {},
   "outputs": [],
   "source": [
    "Y_dataset = X_dataset.Churn\n",
    "X_dataset = X_dataset.drop(\"Churn\", axis=1)\n",
    "X_dataset = X_dataset.drop(\"tenure\", axis=1)\n",
    "X_dataset = X_dataset.drop(\"StreamingTV\", axis=1)\n",
    "X_dataset = X_dataset.drop(\"MonthlyCharges\", axis=1)\n",
    "X_dataset = X_dataset.drop(\"TotalCharges\", axis=1)"
   ]
  },
  {
   "cell_type": "code",
   "execution_count": null,
   "metadata": {},
   "outputs": [],
   "source": [
    "from sklearn.model_selection import train_test_split\n",
    "X_train, X_test, y_train, y_test = train_test_split(X_dataset, Y_dataset, random_state=42, test_size=.33)"
   ]
  },
  {
   "cell_type": "code",
   "execution_count": null,
   "metadata": {},
   "outputs": [],
   "source": [
    "from sklearn.neighbors import KNeighborsClassifier\n",
    "knn = KNeighborsClassifier(n_neighbors=2)\n",
    "knn.fit(X_train, y_train)"
   ]
  },
  {
   "cell_type": "code",
   "execution_count": null,
   "metadata": {},
   "outputs": [],
   "source": [
    "print('Accuracy on training set: {:.2f}'.format(knn.score(X_train, y_train)))\n",
    "print('Accuracy on test set: {:.2f}'.format(knn.score(X_test, y_test)))"
   ]
  },
  {
   "cell_type": "code",
   "execution_count": null,
   "metadata": {},
   "outputs": [],
   "source": [
    "from sklearn.svm import SVC\n",
    "svm = SVC(kernel='rbf')\n",
    "svm.fit(X_train, y_train)"
   ]
  },
  {
   "cell_type": "code",
   "execution_count": null,
   "metadata": {},
   "outputs": [],
   "source": [
    "print('Accuracy on training set: {:.2f}'.format(svm.score(X_train, y_train)))\n",
    "# test data set acc\n",
    "print('Accuracy on test set: {:.2f}'.format(svm.score(X_test, y_test)))"
   ]
  },
  {
   "cell_type": "code",
   "execution_count": null,
   "metadata": {},
   "outputs": [],
   "source": [
    "from sklearn.naive_bayes import GaussianNB\n",
    "GNB = GaussianNB()\n",
    "GNB.fit(X_train, y_train)"
   ]
  },
  {
   "cell_type": "code",
   "execution_count": null,
   "metadata": {},
   "outputs": [],
   "source": [
    "print('Accuracy on training set: {:.2f}'.format(GNB.score(X_train, y_train)))\n",
    "# test data set acc\n",
    "print('Accuracy on test set: {:.2f}'.format(GNB.score(X_test, y_test)))"
   ]
  },
  {
   "cell_type": "code",
   "execution_count": null,
   "metadata": {},
   "outputs": [],
   "source": []
  }
 ],
 "metadata": {
  "kernelspec": {
   "display_name": "Python 3",
   "language": "python",
   "name": "python3"
  },
  "language_info": {
   "codemirror_mode": {
    "name": "ipython",
    "version": 3
   },
   "file_extension": ".py",
   "mimetype": "text/x-python",
   "name": "python",
   "nbconvert_exporter": "python",
   "pygments_lexer": "ipython3",
   "version": "3.6.8"
  }
 },
 "nbformat": 4,
 "nbformat_minor": 1
}
