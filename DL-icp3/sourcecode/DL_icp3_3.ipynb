{
  "nbformat": 4,
  "nbformat_minor": 0,
  "metadata": {
    "colab": {
      "name": "DL-icp3.3.ipynb",
      "version": "0.3.2",
      "provenance": [],
      "include_colab_link": true
    },
    "kernelspec": {
      "name": "python3",
      "display_name": "Python 3"
    }
  },
  "cells": [
    {
      "cell_type": "markdown",
      "metadata": {
        "id": "view-in-github",
        "colab_type": "text"
      },
      "source": [
        "<a href=\"https://colab.research.google.com/github/SireeshaKeesara/Python-DL/blob/master/DL-icp3/sourcecode/DL_icp3_3.ipynb\" target=\"_parent\"><img src=\"https://colab.research.google.com/assets/colab-badge.svg\" alt=\"Open In Colab\"/></a>"
      ]
    },
    {
      "cell_type": "code",
      "metadata": {
        "id": "UP0stKdRtaex",
        "colab_type": "code",
        "outputId": "1ba385b1-2bd4-4155-dfd3-46b7f13ed85f",
        "colab": {
          "base_uri": "https://localhost:8080/",
          "height": 776
        }
      },
      "source": [
        "from keras.models import Sequential\n",
        "from keras import layers\n",
        "from keras.preprocessing.text import Tokenizer, one_hot\n",
        "import pandas as pd\n",
        "from keras_preprocessing.sequence import pad_sequences\n",
        "from sklearn import preprocessing\n",
        "from sklearn.model_selection import train_test_split\n",
        "\n",
        "from sklearn.datasets import fetch_20newsgroups\n",
        "newsgroups_train =fetch_20newsgroups(subset='train', shuffle=True)\n",
        "sentences = newsgroups_train.data\n",
        "y = newsgroups_train.target\n",
        "# sentences = data['review'].values\n",
        "# y = data['label'].values\n",
        "\n",
        "max_review_len= max([len(s.split()) for s in sentences])\n",
        "#tokenizing data\n",
        "tokenizer = Tokenizer(num_words=2000)\n",
        "tokenizer.fit_on_texts(sentences)\n",
        "#getting the vocabulary of data\n",
        "sentences = tokenizer.texts_to_sequences(sentences)\n",
        "padded_docs= pad_sequences(sentences,maxlen=max_review_len)\n",
        "\n",
        "le = preprocessing.LabelEncoder()\n",
        "y = le.fit_transform(y)\n",
        "X_train, X_test, y_train, y_test = train_test_split(padded_docs, y, test_size=0.25, random_state=1000)\n",
        "vocab_size= len(tokenizer.word_index)+1\n",
        "# Number of features\n",
        "# print(input_dim)\n",
        "model = Sequential()\n",
        "model.add(layers.Embedding(vocab_size, 50, input_length=max_review_len))\n",
        "model.add(layers.Flatten())\n",
        "model.add(layers.Dense(300,activation='relu'))\n",
        "model.add(layers.Dense(20, activation='softmax'))\n",
        "model.compile(loss='sparse_categorical_crossentropy',optimizer='adam',metrics=['acc'])\n",
        "# summarize the model\n",
        "print(model.summary())\n",
        "history=model.fit(X_train,y_train, epochs=2, verbose=True, validation_data=(X_test,y_test), batch_size=256)\n",
        "[test_loss, test_acc] = model.evaluate(X_test,y_test)\n",
        "print(\"Evaluation result on Test Data : Loss = {}, accuracy = {}\".format(test_loss, test_acc))"
      ],
      "execution_count": 1,
      "outputs": [
        {
          "output_type": "stream",
          "text": [
            "Using TensorFlow backend.\n",
            "Downloading 20news dataset. This may take a few minutes.\n",
            "WARNING: Logging before flag parsing goes to stderr.\n",
            "I0714 19:18:45.943965 140205186807680 twenty_newsgroups.py:247] Downloading 20news dataset. This may take a few minutes.\n",
            "Downloading dataset from https://ndownloader.figshare.com/files/5975967 (14 MB)\n",
            "I0714 19:18:45.950589 140205186807680 twenty_newsgroups.py:80] Downloading dataset from https://ndownloader.figshare.com/files/5975967 (14 MB)\n",
            "W0714 19:19:05.282736 140205186807680 deprecation_wrapper.py:119] From /usr/local/lib/python3.6/dist-packages/keras/backend/tensorflow_backend.py:74: The name tf.get_default_graph is deprecated. Please use tf.compat.v1.get_default_graph instead.\n",
            "\n",
            "W0714 19:19:05.320287 140205186807680 deprecation_wrapper.py:119] From /usr/local/lib/python3.6/dist-packages/keras/backend/tensorflow_backend.py:517: The name tf.placeholder is deprecated. Please use tf.compat.v1.placeholder instead.\n",
            "\n",
            "W0714 19:19:05.327090 140205186807680 deprecation_wrapper.py:119] From /usr/local/lib/python3.6/dist-packages/keras/backend/tensorflow_backend.py:4138: The name tf.random_uniform is deprecated. Please use tf.random.uniform instead.\n",
            "\n",
            "W0714 19:19:05.403298 140205186807680 deprecation_wrapper.py:119] From /usr/local/lib/python3.6/dist-packages/keras/optimizers.py:790: The name tf.train.Optimizer is deprecated. Please use tf.compat.v1.train.Optimizer instead.\n",
            "\n",
            "W0714 19:19:05.428376 140205186807680 deprecation_wrapper.py:119] From /usr/local/lib/python3.6/dist-packages/keras/backend/tensorflow_backend.py:3341: The name tf.log is deprecated. Please use tf.math.log instead.\n",
            "\n",
            "W0714 19:19:05.561757 140205186807680 deprecation.py:323] From /usr/local/lib/python3.6/dist-packages/tensorflow/python/ops/math_grad.py:1250: add_dispatch_support.<locals>.wrapper (from tensorflow.python.ops.array_ops) is deprecated and will be removed in a future version.\n",
            "Instructions for updating:\n",
            "Use tf.where in 2.0, which has the same broadcast rule as np.where\n",
            "W0714 19:19:05.611130 140205186807680 deprecation_wrapper.py:119] From /usr/local/lib/python3.6/dist-packages/keras/backend/tensorflow_backend.py:986: The name tf.assign_add is deprecated. Please use tf.compat.v1.assign_add instead.\n",
            "\n"
          ],
          "name": "stderr"
        },
        {
          "output_type": "stream",
          "text": [
            "_________________________________________________________________\n",
            "Layer (type)                 Output Shape              Param #   \n",
            "=================================================================\n",
            "embedding_1 (Embedding)      (None, 11821, 50)         6707150   \n",
            "_________________________________________________________________\n",
            "flatten_1 (Flatten)          (None, 591050)            0         \n",
            "_________________________________________________________________\n",
            "dense_1 (Dense)              (None, 300)               177315300 \n",
            "_________________________________________________________________\n",
            "dense_2 (Dense)              (None, 20)                6020      \n",
            "=================================================================\n",
            "Total params: 184,028,470\n",
            "Trainable params: 184,028,470\n",
            "Non-trainable params: 0\n",
            "_________________________________________________________________\n",
            "None\n",
            "Train on 8485 samples, validate on 2829 samples\n",
            "Epoch 1/2\n",
            "8485/8485 [==============================] - 299s 35ms/step - loss: 14.9047 - acc: 0.0514 - val_loss: 15.2809 - val_acc: 0.0516\n",
            "Epoch 2/2\n",
            "8485/8485 [==============================] - 290s 34ms/step - loss: 15.2690 - acc: 0.0526 - val_loss: 15.2749 - val_acc: 0.0523\n",
            "2829/2829 [==============================] - 27s 10ms/step\n",
            "Evaluation result on Test Data : Loss = 15.274873946571821, accuracy = 0.05231530576175327\n"
          ],
          "name": "stdout"
        }
      ]
    }
  ]
}